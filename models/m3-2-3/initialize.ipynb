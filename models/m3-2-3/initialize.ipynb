{
 "cells": [
  {
   "cell_type": "code",
   "execution_count": 4,
   "metadata": {},
   "outputs": [
    {
     "name": "stdout",
     "output_type": "stream",
     "text": [
      "./m3-2-3.ckpt\n"
     ]
    }
   ],
   "source": [
    "import tensorflow as tf\n",
    "\n",
    "from tensorflow.contrib.layers import fully_connected\n",
    "num_inputs = 3  # 3 dimensional input\n",
    "num_hidden = 2  # 2 dimensional representation \n",
    "num_outputs = num_inputs # Must be true for an autoencoder!\n",
    "\n",
    "\n",
    "X = tf.placeholder(tf.float32, shape=[None, num_inputs])\n",
    "hidden = fully_connected(X, num_hidden, activation_fn=None)\n",
    "outputs = fully_connected(hidden, num_outputs, activation_fn=None)\n",
    "\n",
    "\n",
    "init = tf.global_variables_initializer()\n",
    "\n",
    "saver = tf.train.Saver()\n",
    "\n",
    "sess = tf.Session();\n",
    "\n",
    "sess.run(init)\n",
    "\n",
    "save_path = saver.save(sess, \"./m3-2-3.ckpt\")\n",
    "print(save_path)\n",
    "\n",
    "sess.close()    "
   ]
  },
  {
   "cell_type": "code",
   "execution_count": null,
   "metadata": {},
   "outputs": [],
   "source": []
  }
 ],
 "metadata": {
  "kernelspec": {
   "display_name": "Python 3",
   "language": "python",
   "name": "python3"
  },
  "language_info": {
   "codemirror_mode": {
    "name": "ipython",
    "version": 3
   },
   "file_extension": ".py",
   "mimetype": "text/x-python",
   "name": "python",
   "nbconvert_exporter": "python",
   "pygments_lexer": "ipython3",
   "version": "3.7.3"
  }
 },
 "nbformat": 4,
 "nbformat_minor": 2
}
